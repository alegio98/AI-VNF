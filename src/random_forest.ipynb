{
 "cells": [
  {
   "cell_type": "code",
   "execution_count": 345,
   "metadata": {},
   "outputs": [],
   "source": [
    "import warnings\n",
    "warnings.simplefilter(action='ignore', category=FutureWarning)\n",
    "\n",
    "import os\n",
    "import pandas as pd\n",
    "import numpy as np\n",
    "import matplotlib.pyplot as plt\n",
    "import seaborn as sns\n",
    "import joblib\n",
    "import time\n",
    "\n",
    "from sklearn.base import BaseEstimator\n",
    "from sklearn.model_selection import KFold, train_test_split, cross_val_score, GridSearchCV\n",
    "from sklearn.linear_model import LinearRegression, Ridge\n",
    "from sklearn.ensemble import RandomForestRegressor, GradientBoostingRegressor\n",
    "from sklearn.svm import SVR\n",
    "from sklearn.neural_network import MLPRegressor\n",
    "from sklearn.preprocessing import LabelEncoder, StandardScaler, PolynomialFeatures\n",
    "from sklearn.model_selection import train_test_split\n",
    "from sklearn.preprocessing import MinMaxScaler\n",
    "from sklearn.metrics import mean_squared_error\n",
    "\n",
    "sns.set(font_scale=1.1, style='white')"
   ]
  },
  {
   "cell_type": "code",
   "execution_count": 346,
   "metadata": {},
   "outputs": [],
   "source": [
    "class FixedModel(BaseEstimator):\n",
    "    \"\"\"\n",
    "    sklearn model of the fixed model, \n",
    "    always allocating/predicting a fixed, pre-defined amount of resources.\n",
    "    For use in sklearn functions like k-fold CV\n",
    "    \"\"\"\n",
    "    def __init__(self, fixed_value):\n",
    "        self.fixed_value = fixed_value\n",
    "        \n",
    "    def fit(self, X, y):\n",
    "        \"\"\"There's nothing to fit here\"\"\"\n",
    "        return self\n",
    "    \n",
    "    def predict(self, X):\n",
    "        \"\"\"Always 'predict' the specified fixed value\"\"\"\n",
    "        n_samples = X.shape[0]\n",
    "        return [self.fixed_value for _ in range(n_samples)]"
   ]
  },
  {
   "cell_type": "code",
   "execution_count": 347,
   "metadata": {},
   "outputs": [],
   "source": [
    "# function for processing and simplifying the dataset\n",
    "def select_and_rename(df, mapping):\n",
    "    \"\"\"\n",
    "    Helper: Selects columns of df using the keys of the mapping dict.\n",
    "    It renames the columns to the values of the mappings dict.\n",
    "    \"\"\"\n",
    "    # select subset of columns\n",
    "    dff = df[list(mapping.keys())]\n",
    "    # rename \n",
    "    for k, v in mapping.items():\n",
    "        dff.rename(columns={k: v}, inplace=True)\n",
    "    return dff\n",
    "\n",
    "def replaceSize(df):\n",
    "    df[\"size\"] = df[\"size\"].str.replace(\"ab -c 1 -t 60 -n 9999999 -e /tngbench_share/ab_dist.csv -s 60 -k -i http://20.0.0.254:8888/\", \"small\")\n",
    "    df[\"size\"] = df[\"size\"].str.replace(\"ab -c 1 -t 60 -n 9999999 -e /tngbench_share/ab_dist.csv -s 60 -k http://20.0.0.254:8888/bunny.mp4\", \"big\")\n",
    "    df[\"size\"] = df[\"size\"].str.replace(\"ab -c 1 -t 60 -n 9999999 -e /tngbench_share/ab_dist.csv -s 60 -k -i -X 20.0.0.254:3128 http://40.0.0.254:80/\", \"small\")\n",
    "    df[\"size\"] = df[\"size\"].str.replace(\"ab -c 1 -t 60 -n 9999999 -e /tngbench_share/ab_dist.csv -s 60 -k -X 20.0.0.254:3128 http://40.0.0.254:80/bunny.mp4\", \"big\")\n",
    "    return df"
   ]
  },
  {
   "cell_type": "code",
   "execution_count": 348,
   "metadata": {},
   "outputs": [
    {
     "name": "stderr",
     "output_type": "stream",
     "text": [
      "C:\\Users\\giovanna\\AppData\\Local\\Temp\\ipykernel_14856\\1204395680.py:11: SettingWithCopyWarning: \n",
      "A value is trying to be set on a copy of a slice from a DataFrame\n",
      "\n",
      "See the caveats in the documentation: https://pandas.pydata.org/pandas-docs/stable/user_guide/indexing.html#returning-a-view-versus-a-copy\n",
      "  dff.rename(columns={k: v}, inplace=True)\n",
      "C:\\Users\\giovanna\\AppData\\Local\\Temp\\ipykernel_14856\\1204395680.py:11: SettingWithCopyWarning: \n",
      "A value is trying to be set on a copy of a slice from a DataFrame\n",
      "\n",
      "See the caveats in the documentation: https://pandas.pydata.org/pandas-docs/stable/user_guide/indexing.html#returning-a-view-versus-a-copy\n",
      "  dff.rename(columns={k: v}, inplace=True)\n",
      "C:\\Users\\giovanna\\AppData\\Local\\Temp\\ipykernel_14856\\1204395680.py:11: SettingWithCopyWarning: \n",
      "A value is trying to be set on a copy of a slice from a DataFrame\n",
      "\n",
      "See the caveats in the documentation: https://pandas.pydata.org/pandas-docs/stable/user_guide/indexing.html#returning-a-view-versus-a-copy\n",
      "  dff.rename(columns={k: v}, inplace=True)\n",
      "C:\\Users\\giovanna\\AppData\\Local\\Temp\\ipykernel_14856\\1204395680.py:11: SettingWithCopyWarning: \n",
      "A value is trying to be set on a copy of a slice from a DataFrame\n",
      "\n",
      "See the caveats in the documentation: https://pandas.pydata.org/pandas-docs/stable/user_guide/indexing.html#returning-a-view-versus-a-copy\n",
      "  dff.rename(columns={k: v}, inplace=True)\n",
      "C:\\Users\\giovanna\\AppData\\Local\\Temp\\ipykernel_14856\\1204395680.py:11: SettingWithCopyWarning: \n",
      "A value is trying to be set on a copy of a slice from a DataFrame\n",
      "\n",
      "See the caveats in the documentation: https://pandas.pydata.org/pandas-docs/stable/user_guide/indexing.html#returning-a-view-versus-a-copy\n",
      "  dff.rename(columns={k: v}, inplace=True)\n",
      "C:\\Users\\giovanna\\AppData\\Local\\Temp\\ipykernel_14856\\1204395680.py:11: SettingWithCopyWarning: \n",
      "A value is trying to be set on a copy of a slice from a DataFrame\n",
      "\n",
      "See the caveats in the documentation: https://pandas.pydata.org/pandas-docs/stable/user_guide/indexing.html#returning-a-view-versus-a-copy\n",
      "  dff.rename(columns={k: v}, inplace=True)\n",
      "C:\\Users\\giovanna\\AppData\\Local\\Temp\\ipykernel_14856\\1204395680.py:11: SettingWithCopyWarning: \n",
      "A value is trying to be set on a copy of a slice from a DataFrame\n",
      "\n",
      "See the caveats in the documentation: https://pandas.pydata.org/pandas-docs/stable/user_guide/indexing.html#returning-a-view-versus-a-copy\n",
      "  dff.rename(columns={k: v}, inplace=True)\n",
      "C:\\Users\\giovanna\\AppData\\Local\\Temp\\ipykernel_14856\\1204395680.py:11: SettingWithCopyWarning: \n",
      "A value is trying to be set on a copy of a slice from a DataFrame\n",
      "\n",
      "See the caveats in the documentation: https://pandas.pydata.org/pandas-docs/stable/user_guide/indexing.html#returning-a-view-versus-a-copy\n",
      "  dff.rename(columns={k: v}, inplace=True)\n",
      "C:\\Users\\giovanna\\AppData\\Local\\Temp\\ipykernel_14856\\1204395680.py:11: SettingWithCopyWarning: \n",
      "A value is trying to be set on a copy of a slice from a DataFrame\n",
      "\n",
      "See the caveats in the documentation: https://pandas.pydata.org/pandas-docs/stable/user_guide/indexing.html#returning-a-view-versus-a-copy\n",
      "  dff.rename(columns={k: v}, inplace=True)\n",
      "C:\\Users\\giovanna\\AppData\\Local\\Temp\\ipykernel_14856\\1204395680.py:11: SettingWithCopyWarning: \n",
      "A value is trying to be set on a copy of a slice from a DataFrame\n",
      "\n",
      "See the caveats in the documentation: https://pandas.pydata.org/pandas-docs/stable/user_guide/indexing.html#returning-a-view-versus-a-copy\n",
      "  dff.rename(columns={k: v}, inplace=True)\n",
      "C:\\Users\\giovanna\\AppData\\Local\\Temp\\ipykernel_14856\\1204395680.py:11: SettingWithCopyWarning: \n",
      "A value is trying to be set on a copy of a slice from a DataFrame\n",
      "\n",
      "See the caveats in the documentation: https://pandas.pydata.org/pandas-docs/stable/user_guide/indexing.html#returning-a-view-versus-a-copy\n",
      "  dff.rename(columns={k: v}, inplace=True)\n",
      "C:\\Users\\giovanna\\AppData\\Local\\Temp\\ipykernel_14856\\1204395680.py:11: SettingWithCopyWarning: \n",
      "A value is trying to be set on a copy of a slice from a DataFrame\n",
      "\n",
      "See the caveats in the documentation: https://pandas.pydata.org/pandas-docs/stable/user_guide/indexing.html#returning-a-view-versus-a-copy\n",
      "  dff.rename(columns={k: v}, inplace=True)\n"
     ]
    },
    {
     "data": {
      "text/html": [
       "<div>\n",
       "<style scoped>\n",
       "    .dataframe tbody tr th:only-of-type {\n",
       "        vertical-align: middle;\n",
       "    }\n",
       "\n",
       "    .dataframe tbody tr th {\n",
       "        vertical-align: top;\n",
       "    }\n",
       "\n",
       "    .dataframe thead th {\n",
       "        text-align: right;\n",
       "    }\n",
       "</style>\n",
       "<table border=\"1\" class=\"dataframe\">\n",
       "  <thead>\n",
       "    <tr style=\"text-align: right;\">\n",
       "      <th></th>\n",
       "      <th>size</th>\n",
       "      <th>Max. throughput [kB/s]</th>\n",
       "      <th>CPU</th>\n",
       "      <th>Memory</th>\n",
       "    </tr>\n",
       "  </thead>\n",
       "  <tbody>\n",
       "    <tr>\n",
       "      <th>0</th>\n",
       "      <td>small</td>\n",
       "      <td>NaN</td>\n",
       "      <td>0.1</td>\n",
       "      <td>64</td>\n",
       "    </tr>\n",
       "    <tr>\n",
       "      <th>1</th>\n",
       "      <td>small</td>\n",
       "      <td>532.07</td>\n",
       "      <td>0.1</td>\n",
       "      <td>64</td>\n",
       "    </tr>\n",
       "    <tr>\n",
       "      <th>2</th>\n",
       "      <td>small</td>\n",
       "      <td>NaN</td>\n",
       "      <td>0.1</td>\n",
       "      <td>64</td>\n",
       "    </tr>\n",
       "    <tr>\n",
       "      <th>3</th>\n",
       "      <td>small</td>\n",
       "      <td>532.47</td>\n",
       "      <td>0.1</td>\n",
       "      <td>64</td>\n",
       "    </tr>\n",
       "    <tr>\n",
       "      <th>4</th>\n",
       "      <td>small</td>\n",
       "      <td>523.91</td>\n",
       "      <td>0.1</td>\n",
       "      <td>64</td>\n",
       "    </tr>\n",
       "    <tr>\n",
       "      <th>...</th>\n",
       "      <td>...</td>\n",
       "      <td>...</td>\n",
       "      <td>...</td>\n",
       "      <td>...</td>\n",
       "    </tr>\n",
       "    <tr>\n",
       "      <th>1595</th>\n",
       "      <td>big</td>\n",
       "      <td>1545196.78</td>\n",
       "      <td>1.0</td>\n",
       "      <td>512</td>\n",
       "    </tr>\n",
       "    <tr>\n",
       "      <th>1596</th>\n",
       "      <td>big</td>\n",
       "      <td>1561152.62</td>\n",
       "      <td>1.0</td>\n",
       "      <td>512</td>\n",
       "    </tr>\n",
       "    <tr>\n",
       "      <th>1597</th>\n",
       "      <td>big</td>\n",
       "      <td>1553702.49</td>\n",
       "      <td>1.0</td>\n",
       "      <td>512</td>\n",
       "    </tr>\n",
       "    <tr>\n",
       "      <th>1598</th>\n",
       "      <td>big</td>\n",
       "      <td>1587063.69</td>\n",
       "      <td>1.0</td>\n",
       "      <td>512</td>\n",
       "    </tr>\n",
       "    <tr>\n",
       "      <th>1599</th>\n",
       "      <td>big</td>\n",
       "      <td>1574672.18</td>\n",
       "      <td>1.0</td>\n",
       "      <td>512</td>\n",
       "    </tr>\n",
       "  </tbody>\n",
       "</table>\n",
       "<p>1600 rows × 4 columns</p>\n",
       "</div>"
      ],
      "text/plain": [
       "       size  Max. throughput [kB/s]  CPU  Memory\n",
       "0     small                     NaN  0.1      64\n",
       "1     small                  532.07  0.1      64\n",
       "2     small                     NaN  0.1      64\n",
       "3     small                  532.47  0.1      64\n",
       "4     small                  523.91  0.1      64\n",
       "...     ...                     ...  ...     ...\n",
       "1595    big              1545196.78  1.0     512\n",
       "1596    big              1561152.62  1.0     512\n",
       "1597    big              1553702.49  1.0     512\n",
       "1598    big              1587063.69  1.0     512\n",
       "1599    big              1574672.18  1.0     512\n",
       "\n",
       "[1600 rows x 4 columns]"
      ]
     },
     "execution_count": 348,
     "metadata": {},
     "output_type": "execute_result"
    }
   ],
   "source": [
    "# Load data from path\n",
    "web1 = pd.read_csv(\"../data/dataWEB/csv_experiments_WEB01.csv\")\n",
    "web2 = pd.read_csv(\"../data/dataWEB/csv_experiments_WEB02.csv\")\n",
    "web3 = pd.read_csv(\"../data/dataWEB/csv_experiments_WEB03.csv\")\n",
    "\n",
    "# do processing, renaming and selection\n",
    "mapping = {\n",
    "    \"param__func__mp.input__cmd_start\": \"size\",\n",
    "    \"metric__mp.input.vdu01.0__ab_transfer_rate_kbyte_per_second\": \"Max. throughput [kB/s]\",\n",
    "}\n",
    "\n",
    "mapping01 = mapping.copy()\n",
    "mapping01[\"param__func__de.upb.lb-nginx.0.1__cpu_bw\"] = \"CPU\"\n",
    "mapping01[\"param__func__de.upb.lb-nginx.0.1__mem_max\"] = \"Memory\"\n",
    "\n",
    "mapping02 = mapping.copy()\n",
    "mapping02[\"param__func__de.upb.lb-haproxy.0.1__cpu_bw\"] = \"CPU\"\n",
    "mapping02[\"param__func__de.upb.lb-haproxy.0.1__mem_max\"] = \"Memory\"\n",
    "\n",
    "mapping03 = mapping.copy()\n",
    "mapping03[\"param__func__de.upb.px-squid.0.1__cpu_bw\"] = \"CPU\"\n",
    "mapping03[\"param__func__de.upb.px-squid.0.1__mem_max\"] = \"Memory\"\n",
    "\n",
    "web1 = select_and_rename(web1, mapping01)\n",
    "web2 = select_and_rename(web2, mapping02)\n",
    "web3 = select_and_rename(web3, mapping03)\n",
    "\n",
    "web1 = replaceSize(web1)\n",
    "web2 = replaceSize(web2)\n",
    "web3 = replaceSize(web3)\n",
    "\n",
    "web1"
   ]
  },
  {
   "cell_type": "code",
   "execution_count": 349,
   "metadata": {},
   "outputs": [
    {
     "data": {
      "text/html": [
       "<div>\n",
       "<style scoped>\n",
       "    .dataframe tbody tr th:only-of-type {\n",
       "        vertical-align: middle;\n",
       "    }\n",
       "\n",
       "    .dataframe tbody tr th {\n",
       "        vertical-align: top;\n",
       "    }\n",
       "\n",
       "    .dataframe thead th {\n",
       "        text-align: right;\n",
       "    }\n",
       "</style>\n",
       "<table border=\"1\" class=\"dataframe\">\n",
       "  <thead>\n",
       "    <tr style=\"text-align: right;\">\n",
       "      <th></th>\n",
       "      <th>Max. throughput [kB/s]</th>\n",
       "      <th>CPU</th>\n",
       "    </tr>\n",
       "  </thead>\n",
       "  <tbody>\n",
       "    <tr>\n",
       "      <th>40</th>\n",
       "      <td>NaN</td>\n",
       "      <td>0.1</td>\n",
       "    </tr>\n",
       "    <tr>\n",
       "      <th>41</th>\n",
       "      <td>541.33</td>\n",
       "      <td>0.1</td>\n",
       "    </tr>\n",
       "    <tr>\n",
       "      <th>42</th>\n",
       "      <td>528.56</td>\n",
       "      <td>0.1</td>\n",
       "    </tr>\n",
       "    <tr>\n",
       "      <th>43</th>\n",
       "      <td>545.81</td>\n",
       "      <td>0.1</td>\n",
       "    </tr>\n",
       "    <tr>\n",
       "      <th>44</th>\n",
       "      <td>532.16</td>\n",
       "      <td>0.1</td>\n",
       "    </tr>\n",
       "    <tr>\n",
       "      <th>...</th>\n",
       "      <td>...</td>\n",
       "      <td>...</td>\n",
       "    </tr>\n",
       "    <tr>\n",
       "      <th>1495</th>\n",
       "      <td>2323.62</td>\n",
       "      <td>1.0</td>\n",
       "    </tr>\n",
       "    <tr>\n",
       "      <th>1496</th>\n",
       "      <td>2280.04</td>\n",
       "      <td>1.0</td>\n",
       "    </tr>\n",
       "    <tr>\n",
       "      <th>1497</th>\n",
       "      <td>2329.52</td>\n",
       "      <td>1.0</td>\n",
       "    </tr>\n",
       "    <tr>\n",
       "      <th>1498</th>\n",
       "      <td>2311.39</td>\n",
       "      <td>1.0</td>\n",
       "    </tr>\n",
       "    <tr>\n",
       "      <th>1499</th>\n",
       "      <td>2300.15</td>\n",
       "      <td>1.0</td>\n",
       "    </tr>\n",
       "  </tbody>\n",
       "</table>\n",
       "<p>200 rows × 2 columns</p>\n",
       "</div>"
      ],
      "text/plain": [
       "      Max. throughput [kB/s]  CPU\n",
       "40                       NaN  0.1\n",
       "41                    541.33  0.1\n",
       "42                    528.56  0.1\n",
       "43                    545.81  0.1\n",
       "44                    532.16  0.1\n",
       "...                      ...  ...\n",
       "1495                 2323.62  1.0\n",
       "1496                 2280.04  1.0\n",
       "1497                 2329.52  1.0\n",
       "1498                 2311.39  1.0\n",
       "1499                 2300.15  1.0\n",
       "\n",
       "[200 rows x 2 columns]"
      ]
     },
     "execution_count": 349,
     "metadata": {},
     "output_type": "execute_result"
    }
   ],
   "source": [
    "# select sub-datasets with small and large flows\n",
    "# and with specific memory\n",
    "mem =128\n",
    "\n",
    "web1_small = web1.loc[(web1[\"size\"] == \"small\") & (web1[\"Memory\"] == mem)]\n",
    "web1_small = web1_small[[\"Max. throughput [kB/s]\", \"CPU\"]]\n",
    "\n",
    "web1_big = web1.loc[(web1[\"size\"] == \"big\")  & (web1[\"Memory\"] == mem)]\n",
    "web1_big = web1_big[[\"Max. throughput [kB/s]\", \"CPU\"]]\n",
    "\n",
    "web2_small = web2.loc[(web2[\"size\"] == \"small\")  & (web2[\"Memory\"] == mem)]\n",
    "web2_small = web2_small[[\"Max. throughput [kB/s]\", \"CPU\"]]\n",
    "web2_big = web2.loc[(web2[\"size\"] == \"big\")  & (web2[\"Memory\"] == mem)]\n",
    "web2_big = web2_big[[\"Max. throughput [kB/s]\", \"CPU\"]]\n",
    "\n",
    "web3_small = web3.loc[(web3[\"size\"] == \"small\")  & (web3[\"Memory\"] == mem)]\n",
    "web3_small = web3_small[[\"Max. throughput [kB/s]\", \"CPU\"]]\n",
    "web3_big = web3.loc[(web3[\"size\"] == \"big\")  & (web3[\"Memory\"] == mem)]\n",
    "web3_big = web3_big[[\"Max. throughput [kB/s]\", \"CPU\"]]\n",
    "\n",
    "web1_small\n"
   ]
  },
  {
   "cell_type": "code",
   "execution_count": 350,
   "metadata": {},
   "outputs": [
    {
     "data": {
      "text/plain": [
       "(20, 2)"
      ]
     },
     "execution_count": 350,
     "metadata": {},
     "output_type": "execute_result"
    }
   ],
   "source": [
    "# 20 measurements per CPU config from 0.1 to 1.0\n",
    "web1_small[web1_small[\"CPU\"] == 0.5].shape"
   ]
  },
  {
   "cell_type": "code",
   "execution_count": 351,
   "metadata": {},
   "outputs": [],
   "source": [
    "\n",
    "# add 20 \"measurements\" at 0 CPU and throuhgput\n",
    "num_measures = 20\n",
    "measures = [0 for _ in range(num_measures)]\n",
    "\n",
    "web1_small = web1_small.append(pd.DataFrame({'Max. throughput [kB/s]': measures, 'CPU': measures}), ignore_index=True)\n",
    "web1_big = web1_big.append(pd.DataFrame({'Max. throughput [kB/s]': measures, 'CPU': measures}), ignore_index=True)\n",
    "web2_small = web2_small.append(pd.DataFrame({'Max. throughput [kB/s]': measures, 'CPU': measures}), ignore_index=True)\n",
    "web2_big = web2_big.append(pd.DataFrame({'Max. throughput [kB/s]': measures, 'CPU': measures}), ignore_index=True)\n",
    "web3_small = web3_small.append(pd.DataFrame({'Max. throughput [kB/s]': measures, 'CPU': measures}), ignore_index=True)\n",
    "web3_big = web3_big.append(pd.DataFrame({'Max. throughput [kB/s]': measures, 'CPU': measures}), ignore_index=True)"
   ]
  },
  {
   "cell_type": "code",
   "execution_count": 352,
   "metadata": {},
   "outputs": [],
   "source": [
    "# rename\n",
    "nginx = web1_small\n",
    "haproxy = web2_small\n",
    "squid = web3_small"
   ]
  },
  {
   "cell_type": "code",
   "execution_count": 353,
   "metadata": {},
   "outputs": [
    {
     "data": {
      "image/png": "[encoded data removed]",
      "text/plain": [
       "<Figure size 432x288 with 1 Axes>"
      ]
     },
     "metadata": {},
     "output_type": "display_data"
    }
   ],
   "source": [
    "# proper plotting of VNF data for paper\n",
    "# only use data with small flows\n",
    "def plot_vnf_data():\n",
    "    sns.set(font_scale=1.1, style='white')\n",
    "    fig, ax = plt.subplots()\n",
    "    plt.scatter(nginx['Max. throughput [kB/s]'], nginx['CPU'], label='Nginx', marker='.')\n",
    "    plt.scatter(haproxy['Max. throughput [kB/s]'], haproxy['CPU'], label='HAProxy', marker='+')\n",
    "    plt.scatter(squid['Max. throughput [kB/s]'], squid['CPU'], label='Squid', marker='x')\n",
    "\n",
    "    # labels\n",
    "    ax.set_xlabel('Max. throughput [kB/s]')\n",
    "    ax.set_ylabel('CPU')\n",
    "    plt.legend()\n",
    "    \n",
    "plot_vnf_data()"
   ]
  },
  {
   "cell_type": "code",
   "execution_count": 354,
   "metadata": {},
   "outputs": [],
   "source": [
    "def cross_validation_rmse(model, X, y, vnf_name, k=5, save_model=False):\n",
    "    \"\"\"Do k-fold CV and return the avg RMSE on the validation set. Train and save the model.\"\"\"\n",
    "    scores = cross_val_score(model, X, y, scoring=\"neg_mean_squared_error\", cv=k)\n",
    "    rmse = np.sqrt(-scores)\n",
    "    name = type(model).__name__\n",
    "    print(f\"CV RMSE of {name}: {rmse.mean()} (+/-{rmse.std()})\")  \n",
    "    if save_model:\n",
    "        model.fit(X, y)\n",
    "        joblib.dump(model, f'ml_models/{vnf_name}/{name}.joblib')\n",
    "    return rmse \n",
    "\n",
    "def tune_hyperparams(model, X, y, params):\n",
    "    \"\"\"Do grid search CV for hyperparam tuning and return CV RMSE\"\"\"\n",
    "    grid_search = GridSearchCV(model, params, cv=5, scoring=\"neg_mean_squared_error\")\n",
    "    grid_search.fit(X, y)   \n",
    "    return grid_search.best_estimator_\n",
    "\n",
    "def barplot_rmse(scores, labels, data_name):\n",
    "    \"\"\"bar plot comparing the RMSE of the different algorithms\"\"\"\n",
    "    sns.set(font_scale=1.1, style='white')\n",
    "    assert len(scores) == len(labels)\n",
    "    \n",
    "    # preparation\n",
    "    rmse_mean = [s.mean() for s in scores]\n",
    "    rmse_std = [s.std() for s in scores]\n",
    "    x = np.arange(len(labels))\n",
    "\n",
    "    # plot\n",
    "    fig, ax = plt.subplots() #figsize = (8, 6))\n",
    "    plt.barh(x, rmse_mean, color='grey', xerr=rmse_std, capsize=5)\n",
    "\n",
    "    # labels\n",
    "    ax.set_xlabel('RMSE')\n",
    "    ax.set_yticks(x)\n",
    "    ax.set_yticklabels(labels)\n",
    "    \n",
    "    fig.savefig(f'plots/{data_name}_rmse.pdf', bbox_inches='tight')"
   ]
  },
  {
   "cell_type": "code",
   "execution_count": 355,
   "metadata": {},
   "outputs": [],
   "source": [
    "def train_eval_models(X, y, vnf_name, tune_params=False):\n",
    "    \"\"\"Create, tune, eval, and return all ML models\"\"\"\n",
    "    # prepare models\n",
    "    labels = ['Linear', 'Ridge', 'SVR', 'Forest', 'Boosting', 'MLP', 'Fixed']\n",
    "    models = [LinearRegression(), Ridge(), SVR(), RandomForestRegressor(), \n",
    "              GradientBoostingRegressor(), MLPRegressor(max_iter=1500), \n",
    "              FixedModel(fixed_value=0.8)]\n",
    "    \n",
    "    # params for tuning\n",
    "    params_ridge = {'alpha': [0.1, 1, 10]}\n",
    "    params_svr = {'kernel': ['linear', 'poly', 'rbf'], 'C': [1, 10, 100], \n",
    "                  'epsilon': [0.001, 0.01, 0.1]}\n",
    "    params_forest = {'n_estimators': [10, 100, 200]}\n",
    "    params_boosting = {'learning_rate': [0.01, 0.1, 0.3], 'n_estimators': [10, 100, 200]}\n",
    "    params_mlp = {'hidden_layer_sizes': [(64,), (128,), (256)], 'alpha': [0.001, 0.0001, 0.00001],\n",
    "                  'learning_rate_init': [0.01, 0.001, 0.0001]}\n",
    "    params = [{}, params_ridge, params_svr, params_forest, params_boosting, params_mlp, {}]\n",
    "    \n",
    "    # tune, train, eval\n",
    "    if tune_params:\n",
    "        models = [tune_hyperparams(models[i], X, y, params[i]) for i in range(len(models))]  \n",
    "    rmse = [cross_validation_rmse(model, X, y, vnf_name, save_model=True) for model in models]\n",
    "    \n",
    "    # plot\n",
    "    if tune_params:\n",
    "        barplot_rmse(rmse, labels, f'{vnf_name}_tuned')\n",
    "    else:\n",
    "        barplot_rmse(rmse, labels, f'{vnf_name}_default')\n",
    "        \n",
    "    return models"
   ]
  },
  {
   "cell_type": "code",
   "execution_count": 356,
   "metadata": {},
   "outputs": [],
   "source": [
    "def prepare_data(data, vnf_name):\n",
    "    \"\"\"Split return data\"\"\"\n",
    "    X = data[['Max. throughput [kB/s]']]\n",
    "    y = data['CPU']\n",
    "    X = X.fillna(X.median())\n",
    "\n",
    "    scaler = MinMaxScaler()\n",
    "    scaler.fit(X)\n",
    "    os.makedirs(f'ml_models/{vnf_name}', exist_ok=True)\n",
    "    joblib.dump(scaler, f'ml_models/{vnf_name}/scaler.joblib')\n",
    "    \n",
    "    return X, y, scaler"
   ]
  },
  {
   "cell_type": "code",
   "execution_count": 361,
   "metadata": {},
   "outputs": [],
   "source": [
    "def predict_plot_all(models, scaler, X, y, vnf_name):\n",
    "    \"\"\"Given a list of models, fit all to the data, save model, and plot their predictions\"\"\"\n",
    "    sns.set(font_scale=1.1, style='white')\n",
    "    \n",
    "    models = [models[3], models[4]] #tolto models[6]\n",
    "    labels = ['Forest', 'Boosting'] # levo 'Fixed'\n",
    "    markers = ['v', '^'] #levo '+'\n",
    "    colors = ['blue', 'green'] # levo orange\n",
    "    \n",
    "    fig, ax = plt.subplots()    \n",
    "    plt.scatter(X, y, label='Data', marker='o', color='black', s=50)\n",
    "    X = scaler.transform(X)\n",
    "    times = []\n",
    "    for i, model in enumerate(models):\n",
    "        # train model\n",
    "        name = type(model).__name__\n",
    "        model.fit(X, y)\n",
    "        os.makedirs(f'ml_models/{vnf_name}', exist_ok=True)\n",
    "        # predict and plot data\n",
    "        X_plot = pd.DataFrame({'Max. Throughput [kB/s]': np.arange(200, 2500, 50)})\n",
    "        X_plot_scaled = scaler.transform(X_plot)\n",
    "        start = time.time()\n",
    "        y_pred = model.predict(X_plot_scaled)\n",
    "        times.append(start - time.time())\n",
    "        plt.scatter(X_plot, y_pred, label=labels[i], marker=markers[i])\n",
    "\n",
    "    plt.xlabel('Traffic Load [kB/s]')\n",
    "    plt.ylabel('CPU')\n",
    "    plt.tick_params(axis='both', direction='inout', length=5, bottom=True, left=True, right=True, top=True)\n",
    "    plt.legend()\n",
    "    # save, avoid cutting off labels\n",
    "    plt.tight_layout()\n",
    "    #fig.savefig(f'plots/{vnf_name}_model_comparison.pdf')\n",
    "    \n",
    "    # return prediction times\n",
    "    return times"
   ]
  },
  {
   "cell_type": "code",
   "execution_count": 358,
   "metadata": {},
   "outputs": [],
   "source": [
    "def barplot_compare_rmse(scores_default, scores_tuned, labels, data_name):\n",
    "    \"\"\"\n",
    "    bar plot comparing the RMSE of the different algorithms also compare against tuned version of algorithms    \n",
    "    \"\"\"\n",
    "    sns.set(font_scale=1.1, style='white')\n",
    "    assert len(scores_default) == len(scores_tuned) == len(labels)\n",
    "    \n",
    "    x = np.arange(len(labels))\n",
    "    width = 0.35\n",
    "\n",
    "    # plot\n",
    "    fig, ax = plt.subplots() # prev: figsize = (8, 5))\n",
    "    \n",
    "    # default\n",
    "    rmse_mean = [s.mean() for s in scores_default]\n",
    "    rmse_std = [s.std() for s in scores_default]\n",
    "    # 95% CI (not bootstrapped like seaborn does): https://en.wikipedia.org/wiki/Confidence_interval#Basic_steps\n",
    "    ci95 = [1.96 * std / np.sqrt(len(rmse_std)) for std in rmse_std]\n",
    "    ax.bar(x - width/2, rmse_mean, width, yerr=ci95, capsize=5, color='gray', label='Default')\n",
    "    \n",
    "    # same for tuned version\n",
    "    rmse_mean = [s.mean() for s in scores_tuned]\n",
    "    rmse_std = [s.std() for s in scores_tuned]\n",
    "    # 95% CI (not bootstrapped like seaborn does): https://en.wikipedia.org/wiki/Confidence_interval#Basic_steps\n",
    "    ci95 = [1.96 * std / np.sqrt(len(rmse_std)) for std in rmse_std]\n",
    "    ax.bar(x + width/2, rmse_mean, width, yerr=ci95, capsize=5, color='lightgray', label='Tuned')\n",
    "        \n",
    "    # labels\n",
    "    ax.set_ylabel('RMSE')\n",
    "    ax.set_xticks(x)\n",
    "    ax.set_xticklabels(labels)\n",
    "    ax.tick_params(axis='both', direction='inout', length=5, bottom=False, left=True, right=True, top=False)\n",
    "    ax.legend()\n",
    "    \n",
    "    #fig.savefig(f'plots/{data_name}_rmse.pdf', bbox_inches='tight')"
   ]
  },
  {
   "cell_type": "code",
   "execution_count": 359,
   "metadata": {},
   "outputs": [],
   "source": [
    "def train_tune_eval_models(X, y, vnf_name):\n",
    "    \"\"\"Create, tune, eval, and return all ML models - compare default vs tuned performance\"\"\"\n",
    "    # prepare models and rmse without tuning\n",
    "    labels = ['Linear', 'Ridge', 'SVR', 'Forest', 'Boosting', 'MLP'] #'Fixed' tolta\n",
    "    models_default = [LinearRegression(), Ridge(), SVR(), RandomForestRegressor(), \n",
    "              GradientBoostingRegressor(), MLPRegressor(max_iter=1500) ]  #FixedModel(fixed_value=0.8) aggiunta a tutti \n",
    "    rmse_default = [cross_validation_rmse(model, X, y, vnf_name, save_model=False) for model in models_default]\n",
    "    \n",
    "    # hyperparam tuning\n",
    "    params_ridge = {'alpha': [0.1, 1, 10]}\n",
    "    params_svr = {'kernel': ['poly', 'rbf'], 'C': [1, 10, 100], \n",
    "                  'epsilon': [0.001, 0.01, 0.1]}\n",
    "    params_forest = {'n_estimators': [10, 100, 200]}\n",
    "    params_boosting = {'learning_rate': [0.01, 0.1, 0.3], 'n_estimators': [10, 100, 200]}\n",
    "    params_mlp = {'hidden_layer_sizes': [(64,), (128,), (256)], 'alpha': [0.001, 0.0001, 0.00001],\n",
    "                  'learning_rate_init': [0.01, 0.001, 0.0001]}\n",
    "    params = [{}, params_ridge, params_svr, params_forest, params_boosting, params_mlp, {}]\n",
    "\n",
    "    models_tuned = [tune_hyperparams(models_default[i], X, y, params[i]) for i in range(len(labels))] \n",
    "#     models_tuned = [tune_hyperparams(models_default[i], X, y, {}) for i in range(len(labels))]\n",
    "    rmse_tuned = [cross_validation_rmse(model, X, y, vnf_name, save_model=True) for model in models_tuned]\n",
    "    \n",
    "    # plot and compare\n",
    "    barplot_compare_rmse(rmse_default, rmse_tuned, labels, f'{vnf_name}_default-tuned')\n",
    "        \n",
    "    return models_tuned"
   ]
  },
  {
   "cell_type": "code",
   "execution_count": 362,
   "metadata": {},
   "outputs": [
    {
     "name": "stdout",
     "output_type": "stream",
     "text": [
      "CV RMSE of LinearRegression: 0.22067391080810847 (+/-0.07199591952600828)\n",
      "CV RMSE of Ridge: 0.2205383812782431 (+/-0.07177287732372464)\n",
      "CV RMSE of SVR: 0.26174465586135287 (+/-0.05876173341432028)\n",
      "CV RMSE of RandomForestRegressor: 0.221413278688862 (+/-0.06020332432088711)\n",
      "CV RMSE of GradientBoostingRegressor: 0.21747601079878964 (+/-0.05579023772834299)\n",
      "CV RMSE of MLPRegressor: 0.2276735568946588 (+/-0.07091923768919897)\n",
      "CV RMSE of LinearRegression: 0.22067391080810847 (+/-0.07199591952600828)\n",
      "CV RMSE of Ridge: 0.2205383812782431 (+/-0.07177287732372464)\n",
      "CV RMSE of SVR: 0.23975356540594114 (+/-0.036456669991004664)\n",
      "CV RMSE of RandomForestRegressor: 0.22156659255547373 (+/-0.06011725080651463)\n",
      "CV RMSE of GradientBoostingRegressor: 0.19971560243285214 (+/-0.050959613749022394)\n",
      "CV RMSE of MLPRegressor: 0.22833611328468345 (+/-0.07707803364611875)\n"
     ]
    },
    {
     "data": {
      "text/plain": [
       "[-0.005903005599975586, 0.0]"
      ]
     },
     "execution_count": 362,
     "metadata": {},
     "output_type": "execute_result"
    },
    {
     "data": {
      "image/png": "[encoded data removed]",
      "text/plain": [
       "<Figure size 432x288 with 1 Axes>"
      ]
     },
     "metadata": {},
     "output_type": "display_data"
    },
    {
     "data": {
      "image/png": "[encoded data removed]",
      "text/plain": [
       "<Figure size 432x288 with 1 Axes>"
      ]
     },
     "metadata": {},
     "output_type": "display_data"
    }
   ],
   "source": [
    "vnf_name = 'nginx'\n",
    "X, y, scaler = prepare_data(nginx, vnf_name)\n",
    "X_scaled = scaler.transform(X)\n",
    "\n",
    "models = train_tune_eval_models(X_scaled, y, vnf_name)\n",
    "predict_plot_all(models, scaler, X, y, vnf_name)"
   ]
  },
  {
   "cell_type": "code",
   "execution_count": null,
   "metadata": {},
   "outputs": [],
   "source": [
    "vnf_name = 'haproxy'\n",
    "X, y, scaler = prepare_data(haproxy, vnf_name)\n",
    "X_scaled = scaler.transform(X)\n",
    "\n",
    "models = train_tune_eval_models(X_scaled, y, vnf_name)\n",
    "predict_plot_all(models, scaler, X, y, vnf_name)"
   ]
  },
  {
   "cell_type": "code",
   "execution_count": null,
   "metadata": {},
   "outputs": [],
   "source": [
    "vnf_name = 'squid'\n",
    "X, y, scaler = prepare_data(squid, vnf_name)\n",
    "X_scaled = scaler.transform(X)\n",
    "\n",
    "models = train_tune_eval_models(X_scaled, y, vnf_name)\n",
    "predict_plot_all(models, scaler, X, y, vnf_name)"
   ]
  },
  {
   "cell_type": "markdown",
   "metadata": {},
   "source": [
    "# INIZIO LO STUDIO DEL RANDOM FOREST UNICO "
   ]
  },
  {
   "cell_type": "markdown",
   "metadata": {},
   "source": [
    "# - NGINX"
   ]
  },
  {
   "cell_type": "code",
   "execution_count": 126,
   "metadata": {},
   "outputs": [
    {
     "data": {
      "text/html": [
       "<div>\n",
       "<style scoped>\n",
       "    .dataframe tbody tr th:only-of-type {\n",
       "        vertical-align: middle;\n",
       "    }\n",
       "\n",
       "    .dataframe tbody tr th {\n",
       "        vertical-align: top;\n",
       "    }\n",
       "\n",
       "    .dataframe thead th {\n",
       "        text-align: right;\n",
       "    }\n",
       "</style>\n",
       "<table border=\"1\" class=\"dataframe\">\n",
       "  <thead>\n",
       "    <tr style=\"text-align: right;\">\n",
       "      <th></th>\n",
       "      <th>size</th>\n",
       "      <th>cpu_bw</th>\n",
       "      <th>mem</th>\n",
       "      <th>requests_per_second</th>\n",
       "      <th>completed_requests</th>\n",
       "      <th>failed_requests</th>\n",
       "      <th>html_transfer_byte</th>\n",
       "      <th>mean_time_per_request</th>\n",
       "      <th>total_transfer_byte</th>\n",
       "      <th>transfer_rate_kbyte_per_second</th>\n",
       "      <th>rx_bytes</th>\n",
       "      <th>rx_packets</th>\n",
       "      <th>tx_bytes</th>\n",
       "      <th>tx_packets</th>\n",
       "      <th>vnf</th>\n",
       "    </tr>\n",
       "  </thead>\n",
       "  <tbody>\n",
       "    <tr>\n",
       "      <th>0</th>\n",
       "      <td>0</td>\n",
       "      <td>0.1</td>\n",
       "      <td>64</td>\n",
       "      <td>0.00</td>\n",
       "      <td>0.0</td>\n",
       "      <td>0.0</td>\n",
       "      <td>0.0</td>\n",
       "      <td>0.000</td>\n",
       "      <td>0.0</td>\n",
       "      <td>0.00</td>\n",
       "      <td>40643684.0</td>\n",
       "      <td>113005.0</td>\n",
       "      <td>19184806.0</td>\n",
       "      <td>112879.0</td>\n",
       "      <td>nginx</td>\n",
       "    </tr>\n",
       "    <tr>\n",
       "      <th>1</th>\n",
       "      <td>0</td>\n",
       "      <td>0.1</td>\n",
       "      <td>64</td>\n",
       "      <td>1783.06</td>\n",
       "      <td>107128.0</td>\n",
       "      <td>0.0</td>\n",
       "      <td>0.0</td>\n",
       "      <td>0.561</td>\n",
       "      <td>32734529.0</td>\n",
       "      <td>532.07</td>\n",
       "      <td>40102485.0</td>\n",
       "      <td>111501.0</td>\n",
       "      <td>18929278.0</td>\n",
       "      <td>111377.0</td>\n",
       "      <td>nginx</td>\n",
       "    </tr>\n",
       "    <tr>\n",
       "      <th>2</th>\n",
       "      <td>0</td>\n",
       "      <td>0.1</td>\n",
       "      <td>64</td>\n",
       "      <td>0.00</td>\n",
       "      <td>0.0</td>\n",
       "      <td>0.0</td>\n",
       "      <td>0.0</td>\n",
       "      <td>0.000</td>\n",
       "      <td>0.0</td>\n",
       "      <td>0.00</td>\n",
       "      <td>38883453.0</td>\n",
       "      <td>108114.0</td>\n",
       "      <td>18354072.0</td>\n",
       "      <td>107992.0</td>\n",
       "      <td>nginx</td>\n",
       "    </tr>\n",
       "    <tr>\n",
       "      <th>3</th>\n",
       "      <td>0</td>\n",
       "      <td>0.1</td>\n",
       "      <td>64</td>\n",
       "      <td>1784.42</td>\n",
       "      <td>107065.0</td>\n",
       "      <td>0.0</td>\n",
       "      <td>0.0</td>\n",
       "      <td>0.560</td>\n",
       "      <td>32715251.0</td>\n",
       "      <td>532.47</td>\n",
       "      <td>40079181.0</td>\n",
       "      <td>111440.0</td>\n",
       "      <td>18918184.0</td>\n",
       "      <td>111312.0</td>\n",
       "      <td>nginx</td>\n",
       "    </tr>\n",
       "    <tr>\n",
       "      <th>4</th>\n",
       "      <td>0</td>\n",
       "      <td>0.1</td>\n",
       "      <td>64</td>\n",
       "      <td>1755.71</td>\n",
       "      <td>105343.0</td>\n",
       "      <td>0.0</td>\n",
       "      <td>0.0</td>\n",
       "      <td>0.570</td>\n",
       "      <td>32189066.0</td>\n",
       "      <td>523.91</td>\n",
       "      <td>39434018.0</td>\n",
       "      <td>109644.0</td>\n",
       "      <td>18614022.0</td>\n",
       "      <td>109525.0</td>\n",
       "      <td>nginx</td>\n",
       "    </tr>\n",
       "  </tbody>\n",
       "</table>\n",
       "</div>"
      ],
      "text/plain": [
       "   size  cpu_bw  mem  requests_per_second  completed_requests  \\\n",
       "0     0     0.1   64                 0.00                 0.0   \n",
       "1     0     0.1   64              1783.06            107128.0   \n",
       "2     0     0.1   64                 0.00                 0.0   \n",
       "3     0     0.1   64              1784.42            107065.0   \n",
       "4     0     0.1   64              1755.71            105343.0   \n",
       "\n",
       "   failed_requests  html_transfer_byte  mean_time_per_request  \\\n",
       "0              0.0                 0.0                  0.000   \n",
       "1              0.0                 0.0                  0.561   \n",
       "2              0.0                 0.0                  0.000   \n",
       "3              0.0                 0.0                  0.560   \n",
       "4              0.0                 0.0                  0.570   \n",
       "\n",
       "   total_transfer_byte  transfer_rate_kbyte_per_second    rx_bytes  \\\n",
       "0                  0.0                            0.00  40643684.0   \n",
       "1           32734529.0                          532.07  40102485.0   \n",
       "2                  0.0                            0.00  38883453.0   \n",
       "3           32715251.0                          532.47  40079181.0   \n",
       "4           32189066.0                          523.91  39434018.0   \n",
       "\n",
       "   rx_packets    tx_bytes  tx_packets    vnf  \n",
       "0    113005.0  19184806.0    112879.0  nginx  \n",
       "1    111501.0  18929278.0    111377.0  nginx  \n",
       "2    108114.0  18354072.0    107992.0  nginx  \n",
       "3    111440.0  18918184.0    111312.0  nginx  \n",
       "4    109644.0  18614022.0    109525.0  nginx  "
      ]
     },
     "execution_count": 126,
     "metadata": {},
     "output_type": "execute_result"
    }
   ],
   "source": [
    "dfRandForestNGINX = pd.read_csv(\"../data/dataWEB/NGINX_data_chart.csv\")\n",
    "dfRandForestNGINX.head()"
   ]
  },
  {
   "cell_type": "code",
   "execution_count": 127,
   "metadata": {},
   "outputs": [],
   "source": [
    "x= dfRandForestNGINX.drop([\"cpu_bw\",\"vnf\"],axis=1)"
   ]
  },
  {
   "cell_type": "code",
   "execution_count": 128,
   "metadata": {},
   "outputs": [],
   "source": [
    "y= dfRandForestNGINX[\"cpu_bw\"]"
   ]
  },
  {
   "cell_type": "code",
   "execution_count": 129,
   "metadata": {},
   "outputs": [],
   "source": [
    "X_train, X_test, y_train, y_test = train_test_split(x, y, test_size=0.2, random_state=0)   #ci stava 0.2"
   ]
  },
  {
   "cell_type": "code",
   "execution_count": 130,
   "metadata": {},
   "outputs": [],
   "source": [
    "# Feature Scaling\n",
    "from sklearn.preprocessing import StandardScaler\n",
    "\n",
    "sc = StandardScaler()\n",
    "X_train = sc.fit_transform(X_train)\n",
    "X_test = sc.transform(X_test)"
   ]
  },
  {
   "cell_type": "code",
   "execution_count": 131,
   "metadata": {},
   "outputs": [],
   "source": [
    "from sklearn.ensemble import RandomForestRegressor\n",
    "#RANDOM FOREST  NGINX\n",
    "\n",
    "regressor = RandomForestRegressor(n_estimators=100, random_state=0)\n",
    "regressor.fit(X_train, y_train)\n",
    "y_pred = regressor.predict(X_test)"
   ]
  },
  {
   "cell_type": "code",
   "execution_count": 144,
   "metadata": {},
   "outputs": [
    {
     "data": {
      "text/plain": [
       "320"
      ]
     },
     "execution_count": 144,
     "metadata": {},
     "output_type": "execute_result"
    }
   ],
   "source": [
    "y_test"
   ]
  },
  {
   "cell_type": "code",
   "execution_count": 140,
   "metadata": {},
   "outputs": [
    {
     "data": {
      "text/plain": [
       "array([0.7  , 0.3  , 1.   , 0.6  , 0.494, 0.3  , 0.736, 0.645, 0.9  ,\n",
       "       0.1  , 0.71 , 0.744, 1.   , 0.1  , 0.2  , 0.1  , 0.672, 0.2  ,\n",
       "       0.9  , 0.1  , 0.505, 0.1  , 0.3  , 0.8  , 0.578, 0.4  , 0.7  ,\n",
       "       0.2  , 1.   , 0.759, 0.734, 0.3  , 0.7  , 0.7  , 0.4  , 0.2  ,\n",
       "       1.   , 0.9  , 0.3  , 0.1  , 0.754, 0.8  , 0.3  , 0.9  , 0.8  ,\n",
       "       0.4  , 0.5  , 0.9  , 0.5  , 0.47 , 0.875, 0.3  , 0.8  , 0.1  ,\n",
       "       0.732, 0.5  , 0.886, 0.858, 0.1  , 0.905, 0.753, 0.9  , 0.808,\n",
       "       0.662, 0.6  , 0.1  , 0.854, 0.5  , 0.703, 0.4  , 0.545, 0.2  ,\n",
       "       0.1  , 0.834, 0.1  , 0.5  , 0.9  , 0.2  , 0.5  , 0.1  , 0.8  ,\n",
       "       0.437, 0.6  , 0.827, 0.3  , 0.79 , 0.2  , 0.524, 0.5  , 0.1  ,\n",
       "       0.8  , 0.759, 0.732, 0.4  , 1.   , 0.8  , 0.9  , 0.2  , 0.589,\n",
       "       0.3  , 0.481, 1.   , 0.2  , 0.73 , 0.7  , 0.9  , 0.1  , 0.652,\n",
       "       0.2  , 0.4  , 0.3  , 1.   , 0.4  , 0.8  , 0.4  , 0.5  , 0.299,\n",
       "       0.559, 0.2  , 0.8  , 0.831, 0.9  , 0.5  , 0.2  , 0.1  , 0.4  ,\n",
       "       0.57 , 0.6  , 0.926, 0.625, 0.2  , 0.3  , 0.3  , 0.8  , 0.647,\n",
       "       0.8  , 0.757, 0.5  , 0.9  , 0.8  , 0.9  , 0.6  , 0.4  , 0.8  ,\n",
       "       0.2  , 1.   , 0.639, 0.6  , 0.3  , 0.654, 0.2  , 0.2  , 0.482,\n",
       "       0.72 , 0.7  , 0.912, 0.1  , 0.458, 0.475, 0.826, 0.86 , 0.829,\n",
       "       0.1  , 0.2  , 0.428, 0.658, 0.2  , 0.578, 0.7  , 1.   , 0.796,\n",
       "       0.3  , 0.723, 0.1  , 0.8  , 0.3  , 0.699, 0.2  , 0.7  , 1.   ,\n",
       "       0.773, 0.45 , 0.8  , 0.869, 0.1  , 0.2  , 0.787, 0.659, 0.2  ,\n",
       "       0.775, 0.871, 0.2  , 0.9  , 0.4  , 0.75 , 0.2  , 0.518, 0.623,\n",
       "       0.118, 0.2  , 0.2  , 0.1  , 0.6  , 0.729, 0.3  , 0.3  , 1.   ,\n",
       "       0.1  , 0.759, 0.845, 0.536, 0.912, 0.5  , 0.3  , 0.1  , 0.3  ,\n",
       "       0.1  , 0.8  , 0.462, 0.524, 0.493, 0.2  , 0.1  , 1.   , 0.55 ,\n",
       "       0.5  , 0.2  , 0.8  , 0.86 , 0.6  , 0.4  , 0.1  , 0.7  , 0.3  ,\n",
       "       0.7  , 0.7  , 0.881, 0.704, 1.   , 1.   , 0.8  , 0.3  , 0.5  ,\n",
       "       0.8  , 0.7  , 0.2  , 0.9  , 0.869, 0.6  , 1.   , 0.576, 0.7  ,\n",
       "       0.5  , 0.781, 0.7  , 0.517, 0.1  , 0.2  , 0.477, 0.453, 0.3  ,\n",
       "       0.796, 0.672, 0.1  , 0.619, 0.5  , 0.753, 0.2  , 0.2  , 0.5  ,\n",
       "       0.823, 0.8  , 0.942, 0.1  , 0.9  , 0.1  , 1.   , 0.736, 0.538,\n",
       "       0.663, 0.809, 0.794, 0.3  , 0.9  , 0.1  , 0.843, 0.57 , 0.445,\n",
       "       0.69 , 0.8  , 0.891, 0.8  , 0.8  , 0.526, 0.833, 0.2  , 0.1  ,\n",
       "       0.5  , 0.2  , 0.5  , 0.2  , 0.4  , 0.3  , 0.8  , 0.5  , 0.9  ,\n",
       "       0.878, 0.668, 0.1  , 0.2  , 0.1  , 0.71 , 0.6  , 0.821, 0.9  ,\n",
       "       0.4  , 0.1  , 0.722, 0.4  , 0.627])"
      ]
     },
     "execution_count": 140,
     "metadata": {},
     "output_type": "execute_result"
    }
   ],
   "source": [
    "y_pred"
   ]
  },
  {
   "cell_type": "code",
   "execution_count": 305,
   "metadata": {},
   "outputs": [
    {
     "name": "stdout",
     "output_type": "stream",
     "text": [
      "[0, 1, 2, 3, 4, 5, 6, 7, 8, 9, 10, 11, 12, 13, 14, 15, 16, 17, 18, 19, 20, 21, 22, 23, 24, 25, 26, 27, 28, 29, 30, 31, 32, 33, 34, 35, 36, 37, 38, 39, 40, 41, 42, 43, 44, 45, 46, 47, 48, 49, 50, 51, 52, 53, 54, 55, 56, 57, 58, 59, 60, 61, 62, 63, 64, 65, 66, 67, 68, 69, 70, 71, 72, 73, 74, 75, 76, 77, 78, 79, 80, 81, 82, 83, 84, 85, 86, 87, 88, 89, 90, 91, 92, 93, 94, 95, 96, 97, 98, 99, 100, 101, 102, 103, 104, 105, 106, 107, 108, 109, 110, 111, 112, 113, 114, 115, 116, 117, 118, 119, 120, 121, 122, 123, 124, 125, 126, 127, 128, 129, 130, 131, 132, 133, 134, 135, 136, 137, 138, 139, 140, 141, 142, 143, 144, 145, 146, 147, 148, 149, 150, 151, 152, 153, 154, 155, 156, 157, 158, 159, 160, 161, 162, 163, 164, 165, 166, 167, 168, 169, 170, 171, 172, 173, 174, 175, 176, 177, 178, 179, 180, 181, 182, 183, 184, 185, 186, 187, 188, 189, 190, 191, 192, 193, 194, 195, 196, 197, 198, 199, 200, 201, 202, 203, 204, 205, 206, 207, 208, 209, 210, 211, 212, 213, 214, 215, 216, 217, 218, 219, 220, 221, 222, 223, 224, 225, 226, 227, 228, 229, 230, 231, 232, 233, 234, 235, 236, 237, 238, 239, 240, 241, 242, 243, 244, 245, 246, 247, 248, 249, 250, 251, 252, 253, 254, 255, 256, 257, 258, 259, 260, 261, 262, 263, 264, 265, 266, 267, 268, 269, 270, 271, 272, 273, 274, 275, 276, 277, 278, 279, 280, 281, 282, 283, 284, 285, 286, 287, 288, 289, 290, 291, 292, 293, 294, 295, 296, 297, 298, 299, 300, 301, 302, 303, 304, 305, 306, 307, 308, 309, 310, 311, 312, 313, 314, 315, 316, 317, 318, 319]\n"
     ]
    }
   ],
   "source": [
    "IDs=[]\n",
    "for i in range(0,320):\n",
    "    IDs.append(i)\n",
    "print(IDs)"
   ]
  },
  {
   "cell_type": "code",
   "execution_count": 308,
   "metadata": {},
   "outputs": [
    {
     "data": {
      "text/html": [
       "<div>\n",
       "<style scoped>\n",
       "    .dataframe tbody tr th:only-of-type {\n",
       "        vertical-align: middle;\n",
       "    }\n",
       "\n",
       "    .dataframe tbody tr th {\n",
       "        vertical-align: top;\n",
       "    }\n",
       "\n",
       "    .dataframe thead th {\n",
       "        text-align: right;\n",
       "    }\n",
       "</style>\n",
       "<table border=\"1\" class=\"dataframe\">\n",
       "  <thead>\n",
       "    <tr style=\"text-align: right;\">\n",
       "      <th></th>\n",
       "      <th>ID experiment</th>\n",
       "      <th>CPU BW allocated</th>\n",
       "      <th>CPU BW RandomForest</th>\n",
       "      <th>CPU BW Boosting</th>\n",
       "    </tr>\n",
       "  </thead>\n",
       "  <tbody>\n",
       "    <tr>\n",
       "      <th>1073</th>\n",
       "      <td>0</td>\n",
       "      <td>0.7</td>\n",
       "      <td>0.700</td>\n",
       "      <td>0.701411</td>\n",
       "    </tr>\n",
       "    <tr>\n",
       "      <th>326</th>\n",
       "      <td>1</td>\n",
       "      <td>0.3</td>\n",
       "      <td>0.300</td>\n",
       "      <td>0.303404</td>\n",
       "    </tr>\n",
       "    <tr>\n",
       "      <th>1557</th>\n",
       "      <td>2</td>\n",
       "      <td>1.0</td>\n",
       "      <td>1.000</td>\n",
       "      <td>0.995892</td>\n",
       "    </tr>\n",
       "    <tr>\n",
       "      <th>918</th>\n",
       "      <td>3</td>\n",
       "      <td>0.6</td>\n",
       "      <td>0.600</td>\n",
       "      <td>0.601899</td>\n",
       "    </tr>\n",
       "    <tr>\n",
       "      <th>974</th>\n",
       "      <td>4</td>\n",
       "      <td>0.7</td>\n",
       "      <td>0.494</td>\n",
       "      <td>0.543492</td>\n",
       "    </tr>\n",
       "    <tr>\n",
       "      <th>473</th>\n",
       "      <td>5</td>\n",
       "      <td>0.3</td>\n",
       "      <td>0.300</td>\n",
       "      <td>0.321989</td>\n",
       "    </tr>\n",
       "    <tr>\n",
       "      <th>1005</th>\n",
       "      <td>6</td>\n",
       "      <td>0.7</td>\n",
       "      <td>0.736</td>\n",
       "      <td>0.722186</td>\n",
       "    </tr>\n",
       "    <tr>\n",
       "      <th>737</th>\n",
       "      <td>7</td>\n",
       "      <td>0.5</td>\n",
       "      <td>0.645</td>\n",
       "      <td>0.597051</td>\n",
       "    </tr>\n",
       "    <tr>\n",
       "      <th>1426</th>\n",
       "      <td>8</td>\n",
       "      <td>0.9</td>\n",
       "      <td>0.900</td>\n",
       "      <td>0.897713</td>\n",
       "    </tr>\n",
       "    <tr>\n",
       "      <th>53</th>\n",
       "      <td>9</td>\n",
       "      <td>0.1</td>\n",
       "      <td>0.100</td>\n",
       "      <td>0.105432</td>\n",
       "    </tr>\n",
       "    <tr>\n",
       "      <th>579</th>\n",
       "      <td>10</td>\n",
       "      <td>0.4</td>\n",
       "      <td>0.710</td>\n",
       "      <td>0.762904</td>\n",
       "    </tr>\n",
       "    <tr>\n",
       "      <th>654</th>\n",
       "      <td>11</td>\n",
       "      <td>0.5</td>\n",
       "      <td>0.744</td>\n",
       "      <td>0.725744</td>\n",
       "    </tr>\n",
       "    <tr>\n",
       "      <th>1594</th>\n",
       "      <td>12</td>\n",
       "      <td>1.0</td>\n",
       "      <td>1.000</td>\n",
       "      <td>0.995892</td>\n",
       "    </tr>\n",
       "    <tr>\n",
       "      <th>76</th>\n",
       "      <td>13</td>\n",
       "      <td>0.1</td>\n",
       "      <td>0.100</td>\n",
       "      <td>0.102149</td>\n",
       "    </tr>\n",
       "    <tr>\n",
       "      <th>303</th>\n",
       "      <td>14</td>\n",
       "      <td>0.2</td>\n",
       "      <td>0.200</td>\n",
       "      <td>0.204644</td>\n",
       "    </tr>\n",
       "    <tr>\n",
       "      <th>107</th>\n",
       "      <td>15</td>\n",
       "      <td>0.1</td>\n",
       "      <td>0.100</td>\n",
       "      <td>0.101726</td>\n",
       "    </tr>\n",
       "    <tr>\n",
       "      <th>1050</th>\n",
       "      <td>16</td>\n",
       "      <td>0.7</td>\n",
       "      <td>0.672</td>\n",
       "      <td>0.650151</td>\n",
       "    </tr>\n",
       "    <tr>\n",
       "      <th>182</th>\n",
       "      <td>17</td>\n",
       "      <td>0.2</td>\n",
       "      <td>0.200</td>\n",
       "      <td>0.204644</td>\n",
       "    </tr>\n",
       "    <tr>\n",
       "      <th>1428</th>\n",
       "      <td>18</td>\n",
       "      <td>0.9</td>\n",
       "      <td>0.900</td>\n",
       "      <td>0.897713</td>\n",
       "    </tr>\n",
       "    <tr>\n",
       "      <th>80</th>\n",
       "      <td>19</td>\n",
       "      <td>0.1</td>\n",
       "      <td>0.100</td>\n",
       "      <td>0.104488</td>\n",
       "    </tr>\n",
       "  </tbody>\n",
       "</table>\n",
       "</div>"
      ],
      "text/plain": [
       "      ID experiment  CPU BW allocated  CPU BW RandomForest  CPU BW Boosting\n",
       "1073              0               0.7                0.700         0.701411\n",
       "326               1               0.3                0.300         0.303404\n",
       "1557              2               1.0                1.000         0.995892\n",
       "918               3               0.6                0.600         0.601899\n",
       "974               4               0.7                0.494         0.543492\n",
       "473               5               0.3                0.300         0.321989\n",
       "1005              6               0.7                0.736         0.722186\n",
       "737               7               0.5                0.645         0.597051\n",
       "1426              8               0.9                0.900         0.897713\n",
       "53                9               0.1                0.100         0.105432\n",
       "579              10               0.4                0.710         0.762904\n",
       "654              11               0.5                0.744         0.725744\n",
       "1594             12               1.0                1.000         0.995892\n",
       "76               13               0.1                0.100         0.102149\n",
       "303              14               0.2                0.200         0.204644\n",
       "107              15               0.1                0.100         0.101726\n",
       "1050             16               0.7                0.672         0.650151\n",
       "182              17               0.2                0.200         0.204644\n",
       "1428             18               0.9                0.900         0.897713\n",
       "80               19               0.1                0.100         0.104488"
      ]
     },
     "execution_count": 308,
     "metadata": {},
     "output_type": "execute_result"
    }
   ],
   "source": [
    "#creo un dataframe per vedere il confronto tra i dati di test e quelli di predizione fra cpu bandwith \n",
    "dfConfrontoNGINX = pd.DataFrame({'ID experiment':IDs ,'CPU BW allocated':y_test, 'CPU BW RandomForest':y_pred , 'CPU BW Boosting' : pred1})\n",
    "dfConfrontoNGINX.head(20)"
   ]
  },
  {
   "cell_type": "code",
   "execution_count": null,
   "metadata": {},
   "outputs": [],
   "source": []
  },
  {
   "cell_type": "code",
   "execution_count": 309,
   "metadata": {},
   "outputs": [
    {
     "data": {
      "text/plain": [
       "0.819812233492406"
      ]
     },
     "execution_count": 309,
     "metadata": {},
     "output_type": "execute_result"
    }
   ],
   "source": [
    "score = regressor.score(X_test,y_test)\n",
    "score"
   ]
  },
  {
   "cell_type": "code",
   "execution_count": 319,
   "metadata": {},
   "outputs": [
    {
     "name": "stdout",
     "output_type": "stream",
     "text": [
      "Mean Absolute Error: 0.05930625000000043\n",
      "Mean Squared Error: 0.015516137500000022\n",
      "Root Mean Squared Error: 0.12456378887943326\n"
     ]
    }
   ],
   "source": [
    "from sklearn import metrics\n",
    "#RANDOM FOREST  NGINX\n",
    "\n",
    "print('Mean Absolute Error:', metrics.mean_absolute_error(y_test, y_pred))\n",
    "print('Mean Squared Error:', metrics.mean_squared_error(y_test, y_pred))\n",
    "print('Root Mean Squared Error:', np.sqrt(metrics.mean_squared_error(y_test, y_pred)))"
   ]
  },
  {
   "cell_type": "code",
   "execution_count": 320,
   "metadata": {},
   "outputs": [
    {
     "data": {
      "text/plain": [
       "0.819812233492406"
      ]
     },
     "execution_count": 320,
     "metadata": {},
     "output_type": "execute_result"
    }
   ],
   "source": [
    "from sklearn.metrics import r2_score\n",
    "r2_score(y_test, y_pred)"
   ]
  },
  {
   "cell_type": "code",
   "execution_count": 333,
   "metadata": {},
   "outputs": [
    {
     "data": {
      "text/html": [
       "<style>#sk-container-id-8 {color: black;background-color: white;}#sk-container-id-8 pre{padding: 0;}#sk-container-id-8 div.sk-toggleable {background-color: white;}#sk-container-id-8 label.sk-toggleable__label {cursor: pointer;display: block;width: 100%;margin-bottom: 0;padding: 0.3em;box-sizing: border-box;text-align: center;}#sk-container-id-8 label.sk-toggleable__label-arrow:before {content: \"▸\";float: left;margin-right: 0.25em;color: #696969;}#sk-container-id-8 label.sk-toggleable__label-arrow:hover:before {color: black;}#sk-container-id-8 div.sk-estimator:hover label.sk-toggleable__label-arrow:before {color: black;}#sk-container-id-8 div.sk-toggleable__content {max-height: 0;max-width: 0;overflow: hidden;text-align: left;background-color: #f0f8ff;}#sk-container-id-8 div.sk-toggleable__content pre {margin: 0.2em;color: black;border-radius: 0.25em;background-color: #f0f8ff;}#sk-container-id-8 input.sk-toggleable__control:checked~div.sk-toggleable__content {max-height: 200px;max-width: 100%;overflow: auto;}#sk-container-id-8 input.sk-toggleable__control:checked~label.sk-toggleable__label-arrow:before {content: \"▾\";}#sk-container-id-8 div.sk-estimator input.sk-toggleable__control:checked~label.sk-toggleable__label {background-color: #d4ebff;}#sk-container-id-8 div.sk-label input.sk-toggleable__control:checked~label.sk-toggleable__label {background-color: #d4ebff;}#sk-container-id-8 input.sk-hidden--visually {border: 0;clip: rect(1px 1px 1px 1px);clip: rect(1px, 1px, 1px, 1px);height: 1px;margin: -1px;overflow: hidden;padding: 0;position: absolute;width: 1px;}#sk-container-id-8 div.sk-estimator {font-family: monospace;background-color: #f0f8ff;border: 1px dotted black;border-radius: 0.25em;box-sizing: border-box;margin-bottom: 0.5em;}#sk-container-id-8 div.sk-estimator:hover {background-color: #d4ebff;}#sk-container-id-8 div.sk-parallel-item::after {content: \"\";width: 100%;border-bottom: 1px solid gray;flex-grow: 1;}#sk-container-id-8 div.sk-label:hover label.sk-toggleable__label {background-color: #d4ebff;}#sk-container-id-8 div.sk-serial::before {content: \"\";position: absolute;border-left: 1px solid gray;box-sizing: border-box;top: 0;bottom: 0;left: 50%;z-index: 0;}#sk-container-id-8 div.sk-serial {display: flex;flex-direction: column;align-items: center;background-color: white;padding-right: 0.2em;padding-left: 0.2em;position: relative;}#sk-container-id-8 div.sk-item {position: relative;z-index: 1;}#sk-container-id-8 div.sk-parallel {display: flex;align-items: stretch;justify-content: center;background-color: white;position: relative;}#sk-container-id-8 div.sk-item::before, #sk-container-id-8 div.sk-parallel-item::before {content: \"\";position: absolute;border-left: 1px solid gray;box-sizing: border-box;top: 0;bottom: 0;left: 50%;z-index: -1;}#sk-container-id-8 div.sk-parallel-item {display: flex;flex-direction: column;z-index: 1;position: relative;background-color: white;}#sk-container-id-8 div.sk-parallel-item:first-child::after {align-self: flex-end;width: 50%;}#sk-container-id-8 div.sk-parallel-item:last-child::after {align-self: flex-start;width: 50%;}#sk-container-id-8 div.sk-parallel-item:only-child::after {width: 0;}#sk-container-id-8 div.sk-dashed-wrapped {border: 1px dashed gray;margin: 0 0.4em 0.5em 0.4em;box-sizing: border-box;padding-bottom: 0.4em;background-color: white;}#sk-container-id-8 div.sk-label label {font-family: monospace;font-weight: bold;display: inline-block;line-height: 1.2em;}#sk-container-id-8 div.sk-label-container {text-align: center;}#sk-container-id-8 div.sk-container {/* jupyter's `normalize.less` sets `[hidden] { display: none; }` but bootstrap.min.css set `[hidden] { display: none !important; }` so we also need the `!important` here to be able to override the default hidden behavior on the sphinx rendered scikit-learn.org. See: https://github.com/scikit-learn/scikit-learn/issues/21755 */display: inline-block !important;position: relative;}#sk-container-id-8 div.sk-text-repr-fallback {display: none;}</style><div id=\"sk-container-id-8\" class=\"sk-top-container\"><div class=\"sk-text-repr-fallback\"><pre>VotingRegressor(estimators=[(&#x27;gb&#x27;, GradientBoostingRegressor(random_state=0)),\n",
       "                            (&#x27;rf&#x27;, RandomForestRegressor(random_state=0))])</pre><b>In a Jupyter environment, please rerun this cell to show the HTML representation or trust the notebook. <br />On GitHub, the HTML representation is unable to render, please try loading this page with nbviewer.org.</b></div><div class=\"sk-container\" hidden><div class=\"sk-item sk-dashed-wrapped\"><div class=\"sk-label-container\"><div class=\"sk-label sk-toggleable\"><input class=\"sk-toggleable__control sk-hidden--visually\" id=\"sk-estimator-id-21\" type=\"checkbox\" ><label for=\"sk-estimator-id-21\" class=\"sk-toggleable__label sk-toggleable__label-arrow\">VotingRegressor</label><div class=\"sk-toggleable__content\"><pre>VotingRegressor(estimators=[(&#x27;gb&#x27;, GradientBoostingRegressor(random_state=0)),\n",
       "                            (&#x27;rf&#x27;, RandomForestRegressor(random_state=0))])</pre></div></div></div><div class=\"sk-parallel\"><div class=\"sk-parallel-item\"><div class=\"sk-item\"><div class=\"sk-label-container\"><div class=\"sk-label sk-toggleable\"><label>gb</label></div></div><div class=\"sk-serial\"><div class=\"sk-item\"><div class=\"sk-estimator sk-toggleable\"><input class=\"sk-toggleable__control sk-hidden--visually\" id=\"sk-estimator-id-22\" type=\"checkbox\" ><label for=\"sk-estimator-id-22\" class=\"sk-toggleable__label sk-toggleable__label-arrow\">GradientBoostingRegressor</label><div class=\"sk-toggleable__content\"><pre>GradientBoostingRegressor(random_state=0)</pre></div></div></div></div></div></div><div class=\"sk-parallel-item\"><div class=\"sk-item\"><div class=\"sk-label-container\"><div class=\"sk-label sk-toggleable\"><label>rf</label></div></div><div class=\"sk-serial\"><div class=\"sk-item\"><div class=\"sk-estimator sk-toggleable\"><input class=\"sk-toggleable__control sk-hidden--visually\" id=\"sk-estimator-id-23\" type=\"checkbox\" ><label for=\"sk-estimator-id-23\" class=\"sk-toggleable__label sk-toggleable__label-arrow\">RandomForestRegressor</label><div class=\"sk-toggleable__content\"><pre>RandomForestRegressor(random_state=0)</pre></div></div></div></div></div></div></div></div></div></div>"
      ],
      "text/plain": [
       "VotingRegressor(estimators=[('gb', GradientBoostingRegressor(random_state=0)),\n",
       "                            ('rf', RandomForestRegressor(random_state=0))])"
      ]
     },
     "execution_count": 333,
     "metadata": {},
     "output_type": "execute_result"
    }
   ],
   "source": [
    "from sklearn.ensemble import VotingRegressor\n",
    "# Train classifiers\n",
    "reg1 = GradientBoostingRegressor(random_state=0)\n",
    "reg2 = RandomForestRegressor(random_state=0)\n",
    "\n",
    "reg1.fit(X_train, y_train)\n",
    "reg2.fit(X_train, y_train)\n",
    "\n",
    "ereg = VotingRegressor([(\"gb\", reg1), (\"rf\", reg2)])\n",
    "ereg.fit(X_train, y_train)"
   ]
  },
  {
   "cell_type": "code",
   "execution_count": 343,
   "metadata": {},
   "outputs": [
    {
     "data": {
      "text/plain": [
       "22"
      ]
     },
     "execution_count": 343,
     "metadata": {},
     "output_type": "execute_result"
    }
   ],
   "source": [
    "xt = X_test[:22]\n",
    "\n",
    "pred1 = reg1.predict(xt)\n",
    "pred2 = reg2.predict(xt)\n",
    "pred4 = ereg.predict(xt)\n",
    "\n",
    "pred3 = dfConfrontoNGINX.iloc[0:30,1:2]\n",
    "pred1.size\n"
   ]
  },
  {
   "cell_type": "code",
   "execution_count": 344,
   "metadata": {},
   "outputs": [
    {
     "data": {
      "image/png": "[encoded data removed]",
      "text/plain": [
       "<Figure size 2160x1152 with 1 Axes>"
      ]
     },
     "metadata": {},
     "output_type": "display_data"
    }
   ],
   "source": [
    "plt.figure(figsize=(30,16))\n",
    "plt.plot(pred1, \"gd\", label=\"GradientBoostingRegressor\")\n",
    "plt.plot(pred2, \"b^\", label=\"RandomForestRegressor\")\n",
    "plt.plot(cpu_allocata, \"x\", ms=10 ,label='Real allocation of CPU bandwidth')\n",
    "plt.plot(pred4, \"r*\", ms=5, label=\"VotingRegressor\")\n",
    "\n",
    "\n",
    "#plt.tick_params(axis=\"x\", which=\"both\", bottom=False, top=False, labelbottom=False)\n",
    "#plt.ylabel(\"predicted\")\n",
    "#plt.xlabel(\"training samples\")\n",
    "plt.yticks(np.arange(0.0, 1.1, 0.1))\n",
    "plt.xticks(np.arange(22))\n",
    "plt.legend(loc=\"best\")\n",
    "plt.title(\"Regressor predictions and their average\")\n",
    "plt.grid(True)\n",
    "\n",
    "plt.show()"
   ]
  },
  {
   "cell_type": "code",
   "execution_count": 341,
   "metadata": {},
   "outputs": [],
   "source": [
    "array_cpu = dfConfrontoNGINX['CPU BW allocated'].to_numpy() #ho convertito in questo modo in array i valori della cpu allocati . \n",
    "cpu_allocata=[]\n",
    "for i in range(0,22):\n",
    "    cpu_allocata.append(array_cpu[i])"
   ]
  },
  {
   "cell_type": "code",
   "execution_count": 314,
   "metadata": {},
   "outputs": [],
   "source": [
    "#GRADIENT BOOST NGINX \n",
    "regressorBoost = GradientBoostingRegressor(n_estimators=100, random_state=0)\n",
    "regressorBoost.fit(X_train, y_train)\n",
    "y_pred2 = regressorBoost.predict(X_test)"
   ]
  },
  {
   "cell_type": "code",
   "execution_count": 318,
   "metadata": {},
   "outputs": [
    {
     "name": "stdout",
     "output_type": "stream",
     "text": [
      "Mean Absolute Error: 0.0559695466155811\n",
      "Mean Squared Error: 0.012020122324852287\n",
      "Root Mean Squared Error: 0.10963631845721694\n"
     ]
    }
   ],
   "source": [
    "#GRADIENT BOOST NGINX \n",
    "print('Mean Absolute Error:', metrics.mean_absolute_error(y_test, y_pred2))\n",
    "print('Mean Squared Error:', metrics.mean_squared_error(y_test, y_pred2))\n",
    "print('Root Mean Squared Error:', np.sqrt(metrics.mean_squared_error(y_test, y_pred2)))"
   ]
  },
  {
   "cell_type": "code",
   "execution_count": 316,
   "metadata": {},
   "outputs": [
    {
     "data": {
      "text/plain": [
       "0.860411201250105"
      ]
     },
     "execution_count": 316,
     "metadata": {},
     "output_type": "execute_result"
    }
   ],
   "source": [
    "r2_score(y_test, y_pred2)"
   ]
  },
  {
   "cell_type": "code",
   "execution_count": null,
   "metadata": {},
   "outputs": [],
   "source": [
    "from sklearn.model_selection import GridSearchCV\n",
    "from sklearn import tree\n",
    "\n",
    "### CONFIGURATION PARAMETERS RANDOM FOREST\n",
    "param_dist = [{\"max_depth\": [2,3,12,None],\n",
    "              \"min_samples_split\": [10,50],\n",
    "              \"min_samples_leaf\": [10,50],\n",
    "              \"bootstrap\": [True, False],\n",
    "              \"criterion\":['squared_error'],\n",
    "             }]\n",
    "metrics_reg = [\n",
    "        \"explained_variance\",\n",
    "        \"max_error\",\n",
    "        \"neg_mean_absolute_error\",\n",
    "         \"neg_mean_squared_error\",\n",
    "         \"neg_root_mean_squared_error\",\n",
    "         \"neg_mean_squared_log_error\",\n",
    "    \"r2\",\n",
    "   \n",
    "]\n",
    "n_estimators=50\n",
    "for metrica in metrics_reg:\n",
    "    clr =  RandomForestRegressor(n_estimators=n_estimators,\n",
    "                max_features=len(dfRandForestNGINX.columns))\n",
    "    grid_search = GridSearchCV(estimator=clr,  param_grid=param_dist,\n",
    "                                        n_jobs=3, \n",
    "                                        scoring=metrica)\n",
    "\n",
    "\n",
    "    train_set, test_set, train_label, test_label = train_test_split(x, y, test_size=0.20)\n",
    "    grid_search.fit(train_set,train_label)\n",
    "    means = grid_search.cv_results_['mean_test_score']\n",
    "    stds = grid_search.cv_results_['std_test_score']\n",
    "    print(str(n_estimators)+\";\"+str(len(dfRandForestNGINX.columns))+\";\",end='')\n",
    "    for param in param_dist[0].keys():\n",
    "            print(str(grid_search.best_params_[param])+\";\",end='')\n",
    "    print(metrica+\";\"+'nginx'+\";\"+str(grid_search.best_score_),end='')\n",
    "    print()\n",
    "    if(metrica=='r2'):\n",
    "        plt.figure(figsize=(60,20))  \n",
    "        _ = tree.plot_tree(grid_search.best_estimator_[0], feature_names = dfRandForestNGINX.columns, \n",
    "                        filled=True, fontsize=20, rounded = True)\n",
    "        plt.show()\n"
   ]
  },
  {
   "cell_type": "markdown",
   "metadata": {},
   "source": [
    "# - HAPROXY"
   ]
  },
  {
   "cell_type": "code",
   "execution_count": null,
   "metadata": {},
   "outputs": [],
   "source": [
    "dfRandForestHAPROXY = pd.read_csv(\"../data/dataWEB/HAPROXY_data_chart.csv\")\n",
    "dfRandForestHAPROXY.head()"
   ]
  },
  {
   "cell_type": "code",
   "execution_count": null,
   "metadata": {},
   "outputs": [],
   "source": [
    "x2= dfRandForestHAPROXY.drop([\"cpu_bw\",\"vnf\"],axis=1)"
   ]
  },
  {
   "cell_type": "code",
   "execution_count": null,
   "metadata": {},
   "outputs": [],
   "source": [
    "y2= dfRandForestHAPROXY[\"cpu_bw\"]"
   ]
  },
  {
   "cell_type": "code",
   "execution_count": null,
   "metadata": {},
   "outputs": [],
   "source": [
    "X2_train, X2_test, y2_train, y2_test = train_test_split(x2, y2, test_size=0.2, random_state=0)"
   ]
  },
  {
   "cell_type": "code",
   "execution_count": null,
   "metadata": {},
   "outputs": [],
   "source": [
    "# Feature Scaling\n",
    "from sklearn.preprocessing import StandardScaler\n",
    "\n",
    "sc = StandardScaler()\n",
    "X2_train = sc.fit_transform(X2_train)\n",
    "X2_test = sc.transform(X2_test)"
   ]
  },
  {
   "cell_type": "code",
   "execution_count": null,
   "metadata": {},
   "outputs": [],
   "source": [
    "from sklearn.ensemble import RandomForestRegressor\n",
    "#RANDOM FOREST HAPROXY\n",
    "\n",
    "regressor2 = RandomForestRegressor(n_estimators=100, random_state=0)\n",
    "regressor2.fit(X2_train, y2_train)\n",
    "y2_pred = regressor2.predict(X2_test)"
   ]
  },
  {
   "cell_type": "code",
   "execution_count": null,
   "metadata": {},
   "outputs": [],
   "source": [
    "r2_score(y2_test, y2_pred)"
   ]
  },
  {
   "cell_type": "code",
   "execution_count": null,
   "metadata": {},
   "outputs": [],
   "source": [
    "from sklearn import metrics\n",
    "#RANDOM FOREST  HAPROXY\n",
    "\n",
    "print('Mean Absolute Error:', metrics.mean_absolute_error(y2_test, y2_pred))\n",
    "print('Mean Squared Error:', metrics.mean_squared_error(y2_test, y2_pred))\n",
    "print('Root Mean Squared Error:', np.sqrt(metrics.mean_squared_error(y2_test, y2_pred)))"
   ]
  },
  {
   "cell_type": "code",
   "execution_count": null,
   "metadata": {},
   "outputs": [],
   "source": [
    "#GRADIENT BOOST HAPROXY \n",
    "regressorBoost2 = GradientBoostingRegressor(n_estimators=100, random_state=0)\n",
    "regressorBoost2.fit(X2_train, y2_train)\n",
    "y2_predB = regressorBoost2.predict(X2_test)"
   ]
  },
  {
   "cell_type": "code",
   "execution_count": null,
   "metadata": {},
   "outputs": [],
   "source": [
    "r2_score(y2_test, y2_predB)"
   ]
  },
  {
   "cell_type": "code",
   "execution_count": null,
   "metadata": {},
   "outputs": [],
   "source": [
    "#GRADIENT BOOST HAPROXY \n",
    "print('Mean Absolute Error:', metrics.mean_absolute_error(y2_test, y2_predB))\n",
    "print('Mean Squared Error:', metrics.mean_squared_error(y2_test, y2_predB))\n",
    "print('Root Mean Squared Error:', np.sqrt(metrics.mean_squared_error(y2_test, y2_predB)))"
   ]
  },
  {
   "cell_type": "markdown",
   "metadata": {},
   "source": [
    "# - SQUID"
   ]
  },
  {
   "cell_type": "code",
   "execution_count": null,
   "metadata": {},
   "outputs": [],
   "source": [
    "dfRandForestSQUID = pd.read_csv(\"../data/dataWEB/SQUID_data_chart.csv\")\n",
    "dfRandForestSQUID.head()"
   ]
  },
  {
   "cell_type": "code",
   "execution_count": null,
   "metadata": {},
   "outputs": [],
   "source": [
    "x3= dfRandForestSQUID.drop([\"cpu_bw\",\"vnf\"],axis=1)"
   ]
  },
  {
   "cell_type": "code",
   "execution_count": null,
   "metadata": {},
   "outputs": [],
   "source": [
    "y3= dfRandForestSQUID[\"cpu_bw\"]"
   ]
  },
  {
   "cell_type": "code",
   "execution_count": null,
   "metadata": {},
   "outputs": [],
   "source": [
    "X3_train, X3_test, y3_train, y3_test = train_test_split(x3, y3, test_size=0.2, random_state=0)"
   ]
  },
  {
   "cell_type": "code",
   "execution_count": null,
   "metadata": {},
   "outputs": [],
   "source": [
    "# Feature Scaling\n",
    "from sklearn.preprocessing import StandardScaler\n",
    "\n",
    "sc = StandardScaler()\n",
    "X3_train = sc.fit_transform(X3_train)\n",
    "X3_test = sc.transform(X3_test)"
   ]
  },
  {
   "cell_type": "code",
   "execution_count": null,
   "metadata": {},
   "outputs": [],
   "source": [
    "from sklearn.ensemble import RandomForestRegressor\n",
    "#RANDOM FOREST HAPROXY\n",
    "\n",
    "regressor3 = RandomForestRegressor(n_estimators=100, random_state=0)\n",
    "regressor3.fit(X3_train, y3_train)\n",
    "y3_pred = regressor3.predict(X3_test)"
   ]
  },
  {
   "cell_type": "code",
   "execution_count": null,
   "metadata": {},
   "outputs": [],
   "source": [
    "r2_score(y3_test, y3_pred)"
   ]
  },
  {
   "cell_type": "code",
   "execution_count": null,
   "metadata": {},
   "outputs": [],
   "source": [
    "from sklearn import metrics\n",
    "#RANDOM FOREST  SQUID\n",
    "\n",
    "print('Mean Absolute Error:', metrics.mean_absolute_error(y3_test, y3_pred))\n",
    "print('Mean Squared Error:', metrics.mean_squared_error(y3_test, y3_pred))\n",
    "print('Root Mean Squared Error:', np.sqrt(metrics.mean_squared_error(y3_test, y3_pred)))"
   ]
  },
  {
   "cell_type": "code",
   "execution_count": null,
   "metadata": {},
   "outputs": [],
   "source": [
    "#GRADIENT BOOST SQUID \n",
    "regressorBoost3 = GradientBoostingRegressor(n_estimators=100, random_state=0)\n",
    "regressorBoost3.fit(X3_train, y3_train)\n",
    "y3_predB = regressorBoost3.predict(X3_test)"
   ]
  },
  {
   "cell_type": "code",
   "execution_count": null,
   "metadata": {},
   "outputs": [],
   "source": [
    "r2_score(y3_test, y3_predB)"
   ]
  },
  {
   "cell_type": "code",
   "execution_count": null,
   "metadata": {},
   "outputs": [],
   "source": [
    "#GRADIENT BOOST SQUID \n",
    "print('Mean Absolute Error:', metrics.mean_absolute_error(y3_test, y3_predB))\n",
    "print('Mean Squared Error:', metrics.mean_squared_error(y3_test, y3_predB))\n",
    "print('Root Mean Squared Error:', np.sqrt(metrics.mean_squared_error(y3_test, y3_predB)))"
   ]
  },
  {
   "cell_type": "markdown",
   "metadata": {},
   "source": [
    "# MOSQUITTO"
   ]
  },
  {
   "cell_type": "code",
   "execution_count": null,
   "metadata": {},
   "outputs": [],
   "source": [
    "dfm = pd.read_csv(\"../data/dataIoT/MOSQUITTO_data_chart.csv\")\n",
    "dfm.head()"
   ]
  },
  {
   "cell_type": "code",
   "execution_count": null,
   "metadata": {},
   "outputs": [],
   "source": [
    "dfm[\"req_type\"]=dfm[\"req_type\"].replace([\"malaria publish -t -n 10000 -H 20.0.0.254 -q 1 --json /tngbench_share/malaria.json\"],1) \n",
    "dfm[\"req_type\"]=dfm[\"req_type\"].replace([\"malaria publish -t -n 10000 -H 20.0.0.254 -q 2 --json /tngbench_share/malaria.json\"],2)\n",
    "dfm[\"req_type\"]=dfm[\"req_type\"].replace([\"malaria publish -s 10 -n 10000 -H 20.0.0.254 --json /tngbench_share/malaria.json\"],3)\n",
    "dfm[\"req_type\"]=dfm[\"req_type\"].replace([\"malaria publish -s 10000 -n 10000 -H 20.0.0.254 --json /tngbench_share/malaria.json\"],4)\n",
    "\n",
    "dfm"
   ]
  },
  {
   "cell_type": "code",
   "execution_count": null,
   "metadata": {},
   "outputs": [],
   "source": [
    "x4= dfm.drop([\"cpu_bw\",\"mal_test_complete\"],axis=1)"
   ]
  },
  {
   "cell_type": "code",
   "execution_count": null,
   "metadata": {},
   "outputs": [],
   "source": [
    "y4= dfm[\"cpu_bw\"]"
   ]
  },
  {
   "cell_type": "code",
   "execution_count": null,
   "metadata": {},
   "outputs": [],
   "source": [
    "X4_train, X4_test, y4_train, y4_test = train_test_split(x4, y4, test_size=0.2, random_state=0)"
   ]
  },
  {
   "cell_type": "code",
   "execution_count": null,
   "metadata": {},
   "outputs": [],
   "source": [
    "# Feature Scaling\n",
    "from sklearn.preprocessing import StandardScaler\n",
    "\n",
    "sc = StandardScaler()\n",
    "X4_train = sc.fit_transform(X4_train)\n",
    "X4_test = sc.transform(X4_test)"
   ]
  },
  {
   "cell_type": "code",
   "execution_count": null,
   "metadata": {},
   "outputs": [],
   "source": [
    "from sklearn.ensemble import RandomForestRegressor\n",
    "#RANDOM FOREST MOSQUITTO\n",
    "\n",
    "regressor4 = RandomForestRegressor(n_estimators=100, random_state=0)\n",
    "regressor4.fit(X4_train, y4_train)\n",
    "y4_pred = regressor4.predict(X4_test)"
   ]
  },
  {
   "cell_type": "code",
   "execution_count": null,
   "metadata": {},
   "outputs": [],
   "source": [
    "r2_score(y4_test, y4_pred)"
   ]
  },
  {
   "cell_type": "code",
   "execution_count": null,
   "metadata": {},
   "outputs": [],
   "source": [
    "from sklearn import metrics\n",
    "#RANDOM FOREST  MOSQUITTO\n",
    "\n",
    "print('Mean Absolute Error:', metrics.mean_absolute_error(y4_test, y4_pred))\n",
    "print('Mean Squared Error:', metrics.mean_squared_error(y4_test, y4_pred))\n",
    "print('Root Mean Squared Error:', np.sqrt(metrics.mean_squared_error(y4_test, y4_pred)))"
   ]
  },
  {
   "cell_type": "code",
   "execution_count": null,
   "metadata": {},
   "outputs": [],
   "source": [
    "from sklearn import tree\n",
    "tree.plot_tree(regressor4.estimators_[0])"
   ]
  },
  {
   "cell_type": "code",
   "execution_count": null,
   "metadata": {},
   "outputs": [],
   "source": [
    "#GRADIENT BOOSTING MOSQUITTO\n",
    "\n",
    "regressor4Boost = GradientBoostingRegressor(n_estimators=100, random_state=0)\n",
    "regressor4Boost.fit(X4_train, y4_train)\n",
    "y4_predBoost = regressor4Boost.predict(X4_test)"
   ]
  },
  {
   "cell_type": "code",
   "execution_count": null,
   "metadata": {},
   "outputs": [],
   "source": [
    "r2_score(y4_test, y4_predBoost)"
   ]
  },
  {
   "cell_type": "code",
   "execution_count": null,
   "metadata": {},
   "outputs": [],
   "source": [
    "#GRADIENT BOOST SQUID \n",
    "print('Mean Absolute Error:', metrics.mean_absolute_error(y4_test, y4_predBoost))\n",
    "print('Mean Squared Error:', metrics.mean_squared_error(y4_test, y4_predBoost))\n",
    "print('Root Mean Squared Error:', np.sqrt(metrics.mean_squared_error(y4_test, y4_predBoost)))"
   ]
  }
 ],
 "metadata": {
  "kernelspec": {
   "display_name": "Python 3.10.5 64-bit",
   "language": "python",
   "name": "python3"
  },
  "language_info": {
   "codemirror_mode": {
    "name": "ipython",
    "version": 3
   },
   "file_extension": ".py",
   "mimetype": "text/x-python",
   "name": "python",
   "nbconvert_exporter": "python",
   "pygments_lexer": "ipython3",
   "version": "3.10.5"
  },
  "orig_nbformat": 4,
  "vscode": {
   "interpreter": {
    "hash": "1c6777827b81d1a1948168d8b57e3d4c7283960500b4e8a050da32a9962613b7"
   }
  }
 },
 "nbformat": 4,
 "nbformat_minor": 2
}
